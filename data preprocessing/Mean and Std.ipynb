{
 "cells": [
  {
   "cell_type": "code",
   "execution_count": 19,
   "metadata": {},
   "outputs": [],
   "source": [
    "import numpy as np\n",
    "import cv2\n",
    "import glob\n",
    "import sys\n",
    "import matplotlib.pyplot as plt\n",
    "from path import Path"
   ]
  },
  {
   "cell_type": "code",
   "execution_count": 16,
   "metadata": {},
   "outputs": [],
   "source": [
    "mean = np.zeros(3)\n",
    "std = np.zeros(3)\n",
    "for image_path in glob.glob(\"../data/*.png\"):\n",
    "    image = cv2.imread(image_path)\n",
    "    mean += np.mean(image, axis=(0, 1))\n",
    "    std += np.std(image, axis=(0, 1))"
   ]
  },
  {
   "cell_type": "code",
   "execution_count": 19,
   "metadata": {},
   "outputs": [],
   "source": [
    "number_of_images = 650"
   ]
  },
  {
   "cell_type": "code",
   "execution_count": 21,
   "metadata": {},
   "outputs": [
    {
     "data": {
      "text/plain": [
       "array([0.41984883, 0.46900109, 0.50196544])"
      ]
     },
     "execution_count": 21,
     "metadata": {},
     "output_type": "execute_result"
    }
   ],
   "source": [
    "mean / number_of_images / 255."
   ]
  },
  {
   "cell_type": "code",
   "execution_count": 22,
   "metadata": {},
   "outputs": [
    {
     "data": {
      "text/plain": [
       "array([0.20402589, 0.20810876, 0.2125753 ])"
      ]
     },
     "execution_count": 22,
     "metadata": {},
     "output_type": "execute_result"
    }
   ],
   "source": [
    "std / number_of_images / 255."
   ]
  },
  {
   "cell_type": "code",
   "execution_count": 22,
   "metadata": {},
   "outputs": [
    {
     "name": "stdout",
     "output_type": "stream",
     "text": [
      "elapsed time: 321.29106350000075\n",
      "mean:[0.4986887362670226, 0.4624353384748011, 0.4128865060078643]\n",
      "std:[0.2496639341978301, 0.24632207243488088, 0.24975483696287554]\n"
     ]
    }
   ],
   "source": [
    "\"\"\"\n",
    "in this script, we calculate the image per channel mean and standard\n",
    "deviation in the training set, do not calculate the statistics on the\n",
    "whole dataset, as per here http://cs231n.github.io/neural-networks-2/#datapre\n",
    "\"\"\"\n",
    "\n",
    "import numpy as np\n",
    "from os import listdir\n",
    "from os.path import join, isdir\n",
    "from glob import glob\n",
    "import cv2\n",
    "import timeit\n",
    "\n",
    "# number of channels of the dataset image, 3 for color jpg, 1 for grayscale img\n",
    "# you need to change it to reflect your dataset\n",
    "CHANNEL_NUM = 3\n",
    "\n",
    "\n",
    "def cal_dir_stat(root):\n",
    "    pixel_num = 0 # store all pixel number in the dataset\n",
    "    channel_sum = np.zeros(CHANNEL_NUM)\n",
    "    channel_sum_squared = np.zeros(CHANNEL_NUM)\n",
    "\n",
    "    for image_path in glob(\"../data/*.png\"):\n",
    "        im = cv2.imread(image_path) # image in M*N*CHANNEL_NUM shape, channel in BGR order\n",
    "        im = im/255.0\n",
    "        pixel_num += (im.size/CHANNEL_NUM)\n",
    "        channel_sum += np.sum(im, axis=(0, 1))\n",
    "        channel_sum_squared += np.sum(np.square(im), axis=(0, 1))\n",
    "\n",
    "    bgr_mean = channel_sum / pixel_num\n",
    "    bgr_std = np.sqrt(channel_sum_squared / pixel_num - np.square(bgr_mean))\n",
    "    \n",
    "    # change the format from bgr to rgb\n",
    "    rgb_mean = list(bgr_mean)[::-1]\n",
    "    rgb_std = list(bgr_std)[::-1]\n",
    "    \n",
    "    return rgb_mean, rgb_std\n",
    "\n",
    "# The script assumes that under train_root, there are separate directories for each class\n",
    "# of training images.\n",
    "train_root = \"../data\"\n",
    "start = timeit.default_timer()\n",
    "mean, std = cal_dir_stat(train_root)\n",
    "end = timeit.default_timer()\n",
    "print(\"elapsed time: {}\".format(end-start))\n",
    "print(\"mean:{}\\nstd:{}\".format(mean, std))"
   ]
  },
  {
   "cell_type": "code",
   "execution_count": null,
   "metadata": {},
   "outputs": [],
   "source": []
  }
 ],
 "metadata": {
  "kernelspec": {
   "display_name": "Python 3",
   "language": "python",
   "name": "python3"
  },
  "language_info": {
   "codemirror_mode": {
    "name": "ipython",
    "version": 3
   },
   "file_extension": ".py",
   "mimetype": "text/x-python",
   "name": "python",
   "nbconvert_exporter": "python",
   "pygments_lexer": "ipython3",
   "version": "3.7.4"
  }
 },
 "nbformat": 4,
 "nbformat_minor": 2
}
